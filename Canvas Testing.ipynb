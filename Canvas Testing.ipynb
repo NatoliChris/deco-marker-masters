{
 "cells": [
  {
   "cell_type": "code",
   "execution_count": null,
   "metadata": {},
   "outputs": [],
   "source": [
    "import requests as req\n",
    "from urllib.parse import quote"
   ]
  },
  {
   "cell_type": "code",
   "execution_count": null,
   "metadata": {},
   "outputs": [],
   "source": [
    "COURSE = 13984\n",
    "ASSIGNMENT = 130963\n",
    "ID = 87131\n",
    "BASE_URL = \"https://canvas.sydney.edu.au/api/v1\""
   ]
  },
  {
   "cell_type": "code",
   "execution_count": null,
   "metadata": {},
   "outputs": [],
   "source": [
    "HEADERS = {\n",
    "    \"Authorization\": \"Bearer \" + input(\"Token: \"),\n",
    "    \"Content-Type\": \"multipart/form-data\"\n",
    "}"
   ]
  },
  {
   "cell_type": "code",
   "execution_count": null,
   "metadata": {},
   "outputs": [],
   "source": [
    "def format_url(url):\n",
    "    return url.replace(\"[COURSE]\", str(COURSE)).replace(\"[ASSIGNMENT]\", str(ASSIGNMENT)).replace(\"[ID]\", str(ID))\n",
    "\n",
    "def handle(response):\n",
    "    if response.ok:\n",
    "        return response.json()\n",
    "    else:\n",
    "        return f\"{response.status_code}: {response.reason}\"\n",
    "\n",
    "def put(url, *args, **kwargs):\n",
    "    print(HEADERS)\n",
    "    print(BASE_URL + format_url(url))\n",
    "    return handle(req.put(BASE_URL + format_url(url), *args, headers=HEADERS, **kwargs))\n",
    "\n",
    "def get(url, *args, **kwargs):\n",
    "    print(HEADERS)\n",
    "    print(BASE_URL + format_url(url))\n",
    "    return handle(req.get(BASE_URL + format_url(url), *args, headers=HEADERS, **kwargs))"
   ]
  },
  {
   "cell_type": "code",
   "execution_count": null,
   "metadata": {},
   "outputs": [],
   "source": [
    "rubrics = get(\"/courses/[COURSE]/rubrics\")\n",
    "rubrics"
   ]
  },
  {
   "cell_type": "code",
   "execution_count": null,
   "metadata": {},
   "outputs": [],
   "source": [
    "criteria = rubrics[0]['data']\n",
    "criteria_ids = [[y['id'] for y in x['ratings']] for x in criteria]\n",
    "criteria_ids = {\n",
    "    'A': {\n",
    "        'id': criteria[0]['id'],\n",
    "        'ratings': criteria_ids[0]\n",
    "    },\n",
    "    'B': {\n",
    "        'id': criteria[1]['id'],\n",
    "        'ratings': criteria_ids[1]\n",
    "    },\n",
    "    'C': {\n",
    "        'id': criteria[2]['id'],\n",
    "        'ratings': criteria_ids[2]\n",
    "    }\n",
    "}"
   ]
  },
  {
   "cell_type": "code",
   "execution_count": null,
   "metadata": {},
   "outputs": [],
   "source": [
    "criteria_ids"
   ]
  },
  {
   "cell_type": "code",
   "execution_count": null,
   "metadata": {},
   "outputs": [],
   "source": [
    "def get_rating_id(crit, mark):\n",
    "    for i, m in enumerate([85, 75, 65, 50, 0]):\n",
    "        if mark > m:\n",
    "            return criteria_ids[crit]['ratings'][i + 1]\n",
    "\n",
    "def gen_mark(grade, comment, mark_a, mark_b, mark_c):\n",
    "    r = \"\"\n",
    "    if comment.strip():\n",
    "        r += f\"comment[text_comment]={quote(comment.strip())}\"\n",
    "    r += f\"&submission[posted_grade]={grade}\"\n",
    "    r += f\"&rubric_assessment[{criteria_ids['A']['id']}][points]={mark_a}\"\n",
    "    r += f\"&rubric_assessment[{criteria_ids['B']['id']}][points]={mark_b}\"\n",
    "    r += f\"&rubric_assessment[{criteria_ids['C']['id']}][points]={mark_c}\"\n",
    "    return r.strip('&')\n",
    "\n",
    "#     r += f\"&rubric_assessment[{criteria_ids['A']['id']}][rating_id]={get_rating_id('A', mark_a)}\"\n",
    "#     r += f\"&rubric_assessment[{criteria_ids['B']['id']}][rating_id]={get_rating_id('B', mark_b)}\"\n",
    "#     r += f\"&rubric_assessment[{criteria_ids['C']['id']}][rating_id]={get_rating_id('C', mark_c)}\"\n",
    "\n",
    "def mark_assignment(sid, *args):\n",
    "    return put(\"/courses/[COURSE]/assignments/[ASSIGNMENT]/submissions/[ID]\", gen_mark(*args))"
   ]
  },
  {
   "cell_type": "code",
   "execution_count": null,
   "metadata": {},
   "outputs": [],
   "source": [
    "mark_assignment(470423053, 225, \"You can put a comment here!\", 55, 90, 25)"
   ]
  },
  {
   "cell_type": "code",
   "execution_count": null,
   "metadata": {},
   "outputs": [],
   "source": [
    "gen_mark(225, \"Excellent!\\n\\nDouble newlines? Also inbetween rubric marks...\", 80, 70, 60).split('&')"
   ]
  },
  {
   "cell_type": "code",
   "execution_count": null,
   "metadata": {},
   "outputs": [],
   "source": []
  }
 ],
 "metadata": {
  "kernelspec": {
   "display_name": "Python 3",
   "language": "python",
   "name": "python3"
  },
  "language_info": {
   "codemirror_mode": {
    "name": "ipython",
    "version": 3
   },
   "file_extension": ".py",
   "mimetype": "text/x-python",
   "name": "python",
   "nbconvert_exporter": "python",
   "pygments_lexer": "ipython3",
   "version": "3.7.2"
  }
 },
 "nbformat": 4,
 "nbformat_minor": 2
}
